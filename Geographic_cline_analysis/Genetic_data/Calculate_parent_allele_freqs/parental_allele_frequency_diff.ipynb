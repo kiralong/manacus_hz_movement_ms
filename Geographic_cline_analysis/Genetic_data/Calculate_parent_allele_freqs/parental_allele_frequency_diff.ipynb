{
 "cells": [
  {
   "cell_type": "code",
   "execution_count": 22,
   "metadata": {},
   "outputs": [],
   "source": [
    "populations_sumstats_file_path = \"data/long_populations.sumstats.tsv\"\n",
    "snp_cline_parameters_file_path = \"data/long_p8_snp_cline_parameters.filtered.tsv\"\n",
    "\n",
    "out_snp_cline_parameters_file_path = \"long.p8.out.snp_cline_parameters_with_parental_allele_freq_diff.tsv\"\n",
    "\n",
    "# Parental Populations of interest - the two non-hybrid parental populations. \n",
    "# NOTE: Script only supports two parental populations.\n",
    "parental_populations = ('cg_100', 'ss_020')"
   ]
  },
  {
   "cell_type": "code",
   "execution_count": 23,
   "metadata": {},
   "outputs": [],
   "source": [
    "# TODO use named tuple to make it easier to pull things out\n",
    "# from collections import namedtuple\n",
    "# RelevantSumstatsSubset = namedtuple('RelevantSumstatsSubset', 'snp_id p')"
   ]
  },
  {
   "cell_type": "code",
   "execution_count": 24,
   "metadata": {},
   "outputs": [
    {
     "name": "stdout",
     "output_type": "stream",
     "text": [
      "144296\n",
      "('426521_76', '0.9787234')\n",
      "('426521_76', '1')\n"
     ]
    }
   ],
   "source": [
    "filtered_population_sumstats = []\n",
    "with open(populations_sumstats_file_path, \"r\") as populations_sumstats_file:\n",
    "    lines=populations_sumstats_file.readlines()\n",
    "    \n",
    "    until= len(lines)\n",
    "    for i in range(0,until):\n",
    "        line = lines[i]\n",
    "\n",
    "        # Get rid of headers -  If comment line, skip\n",
    "        if line.startswith('#'):\n",
    "            continue\n",
    "\n",
    "        [locus_id, chr, bp, col, pop_id, p_nuc, q_nuc, n, p, *_ ] = line.split()\n",
    "        if pop_id in parental_populations:\n",
    "            # Create the snp_id \"<Locus ID>_<Col>\"\n",
    "            filtered_population_sumstats.append((f\"{locus_id}_{col}\", p))\n",
    "\n",
    "print(len(filtered_population_sumstats))\n",
    "\n",
    "print(filtered_population_sumstats[-2])\n",
    "print(filtered_population_sumstats[-1])\n"
   ]
  },
  {
   "cell_type": "code",
   "execution_count": 25,
   "metadata": {},
   "outputs": [
    {
     "name": "stdout",
     "output_type": "stream",
     "text": [
      "72148\n",
      "('426521_76', 0.02127659999999998)\n"
     ]
    }
   ],
   "source": [
    "snp_parental_diffs = []\n",
    "for i in range(0, len(filtered_population_sumstats), 2):\n",
    "    p1 = filtered_population_sumstats[i]\n",
    "    p2 = filtered_population_sumstats[i+1]\n",
    "    diff = abs(float(p1[-1]) - float(p2[-1]))\n",
    "    snp_parental_diffs.append((p1[0], diff))\n",
    "\n",
    "print(len(snp_parental_diffs))\n",
    "print(snp_parental_diffs[-1])"
   ]
  },
  {
   "cell_type": "markdown",
   "metadata": {},
   "source": [
    "Now that we have snp ids and diffs\n",
    "Put that in the cline parameters file\n",
    "What's the default value: empty between tabs? NO, every row in cline parameters should have\n",
    "Sumstats is superset of cline parameters file.\n",
    "However, note that if you can't find the row in cline parameters, skip\n",
    "It's not performant because we need to scan through the clien parameters per item to find and append, however we can pull the entire cline parameters file into memory at the very least so avoid multiple file I/O operations. Load file once, do all the non-performant scans+appends in-memory, and then dump to file at the end."
   ]
  },
  {
   "cell_type": "code",
   "execution_count": 26,
   "metadata": {},
   "outputs": [],
   "source": [
    "with open(snp_cline_parameters_file_path, \"r\") as snp_cline_parameters_file:\n",
    "    snp_cline_parameters_lines = snp_cline_parameters_file.readlines()"
   ]
  },
  {
   "cell_type": "code",
   "execution_count": 27,
   "metadata": {},
   "outputs": [],
   "source": [
    "# SLOW ALGORITHM: Now for the super non-performant brute-force part.\n",
    "# We have to look through the snp_cline_parameters_lines each time\n",
    "# since there are no guarantees of sorting and we have to preserve order.\n",
    "\n",
    "# for i in range(0, len(snp_parental_diffs)):\n",
    "#     snp_parental_diff = snp_parental_diffs[i]\n",
    "\n",
    "#     for j in range(0, len(snp_cline_parameters_lines)):\n",
    "#         snp_cline_parameters_line = snp_cline_parameters_lines[j]\n",
    "        \n",
    "#         [_, snp_id, *_ ] = snp_cline_parameters_line.split()\n",
    "\n",
    "#         if snp_parental_diff[0] == snp_id:\n",
    "#             snp_cline_parameters_line = snp_cline_parameters_line.rstrip() + f\"\\t{snp_parental_diff[1]}\\n\"\n",
    "#             snp_cline_parameters_lines[j] = snp_cline_parameters_line"
   ]
  },
  {
   "cell_type": "code",
   "execution_count": 28,
   "metadata": {},
   "outputs": [
    {
     "name": "stdout",
     "output_type": "stream",
     "text": [
      "Processing snp_cline_parameters_lines 47792 x snp_parental_diffs 72148\n",
      "PROGRESS snp_cline_parameters_lines i=1000/47792\n",
      "PROGRESS snp_cline_parameters_lines i=2000/47792\n",
      "PROGRESS snp_cline_parameters_lines i=3000/47792\n",
      "PROGRESS snp_cline_parameters_lines i=4000/47792\n",
      "PROGRESS snp_cline_parameters_lines i=5000/47792\n",
      "PROGRESS snp_cline_parameters_lines i=6000/47792\n",
      "PROGRESS snp_cline_parameters_lines i=7000/47792\n",
      "PROGRESS snp_cline_parameters_lines i=8000/47792\n",
      "PROGRESS snp_cline_parameters_lines i=9000/47792\n",
      "PROGRESS snp_cline_parameters_lines i=10000/47792\n",
      "PROGRESS snp_cline_parameters_lines i=11000/47792\n",
      "PROGRESS snp_cline_parameters_lines i=12000/47792\n",
      "PROGRESS snp_cline_parameters_lines i=13000/47792\n",
      "PROGRESS snp_cline_parameters_lines i=14000/47792\n",
      "PROGRESS snp_cline_parameters_lines i=15000/47792\n",
      "PROGRESS snp_cline_parameters_lines i=16000/47792\n",
      "PROGRESS snp_cline_parameters_lines i=17000/47792\n",
      "PROGRESS snp_cline_parameters_lines i=18000/47792\n",
      "PROGRESS snp_cline_parameters_lines i=19000/47792\n",
      "PROGRESS snp_cline_parameters_lines i=20000/47792\n",
      "PROGRESS snp_cline_parameters_lines i=21000/47792\n",
      "PROGRESS snp_cline_parameters_lines i=22000/47792\n",
      "PROGRESS snp_cline_parameters_lines i=23000/47792\n",
      "PROGRESS snp_cline_parameters_lines i=24000/47792\n",
      "PROGRESS snp_cline_parameters_lines i=25000/47792\n",
      "PROGRESS snp_cline_parameters_lines i=26000/47792\n",
      "PROGRESS snp_cline_parameters_lines i=27000/47792\n",
      "PROGRESS snp_cline_parameters_lines i=28000/47792\n",
      "PROGRESS snp_cline_parameters_lines i=29000/47792\n",
      "PROGRESS snp_cline_parameters_lines i=30000/47792\n",
      "PROGRESS snp_cline_parameters_lines i=31000/47792\n",
      "PROGRESS snp_cline_parameters_lines i=32000/47792\n",
      "PROGRESS snp_cline_parameters_lines i=33000/47792\n",
      "PROGRESS snp_cline_parameters_lines i=34000/47792\n",
      "PROGRESS snp_cline_parameters_lines i=35000/47792\n",
      "PROGRESS snp_cline_parameters_lines i=36000/47792\n",
      "PROGRESS snp_cline_parameters_lines i=37000/47792\n",
      "PROGRESS snp_cline_parameters_lines i=38000/47792\n",
      "PROGRESS snp_cline_parameters_lines i=39000/47792\n",
      "PROGRESS snp_cline_parameters_lines i=40000/47792\n",
      "PROGRESS snp_cline_parameters_lines i=41000/47792\n",
      "PROGRESS snp_cline_parameters_lines i=42000/47792\n",
      "PROGRESS snp_cline_parameters_lines i=43000/47792\n",
      "PROGRESS snp_cline_parameters_lines i=44000/47792\n",
      "PROGRESS snp_cline_parameters_lines i=45000/47792\n",
      "PROGRESS snp_cline_parameters_lines i=46000/47792\n",
      "PROGRESS snp_cline_parameters_lines i=47000/47792\n"
     ]
    }
   ],
   "source": [
    "# FASTER ALGORITHM (which is still slow)\n",
    "# Since the snp_clines params are a subset of the sumstats\n",
    "# and thus are considerably smaller, \n",
    "# iterate through the snp_cline_parameters, scanning through the sumstats\n",
    "# This lower-bounds the algorithm to the size of cline params which is smaller.\n",
    "\n",
    "print(f\"Processing snp_cline_parameters_lines {len(snp_cline_parameters_lines)} x snp_parental_diffs {len(snp_parental_diffs)}\", )\n",
    "for i in range(1, len(snp_cline_parameters_lines)):\n",
    "    if i % 1000 == 0:\n",
    "        print(\"PROGRESS snp_cline_parameters_lines\", f\"i={i}/{len(snp_cline_parameters_lines)}\")\n",
    "\n",
    "    snp_cline_parameters_line = snp_cline_parameters_lines[i]\n",
    "    [_, snp_id, *_ ] = snp_cline_parameters_line.split()\n",
    "\n",
    "    found = False\n",
    "    for j in range(0, len(snp_parental_diffs)):\n",
    "        snp_parental_diff = snp_parental_diffs[j]        \n",
    "\n",
    "        if snp_parental_diff[0] == snp_id:\n",
    "            snp_cline_parameters_line = snp_cline_parameters_line.rstrip() + f\"\\t{snp_parental_diff[1]}\\n\"\n",
    "            snp_cline_parameters_lines[i] = snp_cline_parameters_line\n",
    "            found = True\n",
    "            continue\n",
    "    \n",
    "    if not found:\n",
    "        # This should technically never happen... if it does, there's a problem.\n",
    "        print(\"Found an NA\", f\"i={i} j={j}\", snp_cline_parameters_line)\n",
    "        snp_cline_parameters_line = snp_cline_parameters_line.rstrip() + f\"\\tNA\\n\"\n",
    "        snp_cline_parameters_lines[i] = snp_cline_parameters_line\n"
   ]
  },
  {
   "cell_type": "markdown",
   "metadata": {},
   "source": [
    "Next you need to make the snp_id from the sumstats file match what is in the cline parameters file. Each cline in the cline parameters file has a unique snp in the form of `<Locus ID>_<Col>` which was originally made from the sumstats file. Column 1 in the sumstat file is Locus ID and column 4 is Col.\n",
    "\n",
    "Note that there are a bunch of snps in the sumstats file that will NOT be in the cline parameters file. That’s ok, but make sure the python script moves on if it doesn’t find a snp ID in the cline parameters file.\n"
   ]
  },
  {
   "cell_type": "code",
   "execution_count": 29,
   "metadata": {},
   "outputs": [],
   "source": [
    "\n",
    "# One last thing: Add a column header on the first line\n",
    "snp_cline_parameters_lines[0] = snp_cline_parameters_lines[0].rstrip() + f\"\\tparent_allele_freq_diff\\n\"\n",
    "\n",
    "# Output the cline parameters file\n",
    "with open(out_snp_cline_parameters_file_path, \"w\") as outfile:\n",
    "    outfile.writelines(snp_cline_parameters_lines)"
   ]
  }
 ],
 "metadata": {
  "kernelspec": {
   "display_name": "Python 3.11.0 64-bit",
   "language": "python",
   "name": "python3"
  },
  "language_info": {
   "codemirror_mode": {
    "name": "ipython",
    "version": 3
   },
   "file_extension": ".py",
   "mimetype": "text/x-python",
   "name": "python",
   "nbconvert_exporter": "python",
   "pygments_lexer": "ipython3",
   "version": "3.11.1"
  },
  "orig_nbformat": 4,
  "vscode": {
   "interpreter": {
    "hash": "1a1af0ee75eeea9e2e1ee996c87e7a2b11a0bebd85af04bb136d915cefc0abce"
   }
  }
 },
 "nbformat": 4,
 "nbformat_minor": 2
}
